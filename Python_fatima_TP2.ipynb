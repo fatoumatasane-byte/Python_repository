{
 "cells": [
  {
   "cell_type": "markdown",
   "id": "d68c1dee",
   "metadata": {
    "id": "d68c1dee"
   },
   "source": [
    "# Practical_2: String and files"
   ]
  },
  {
   "cell_type": "markdown",
   "id": "47b7f206",
   "metadata": {
    "id": "bea983a3"
   },
   "source": [
    "---\n",
    "\n",
    "### Exercise 1:\n",
    "Create a string variable `text` and assign it the value `\"Python is amazing!\"`.\n",
    "\n",
    "```python\n",
    "# Exercise 1\n",
    "```\n",
    "\n",
    "---"
   ]
  },
  {
   "cell_type": "code",
   "execution_count": 1,
   "id": "ad85ccc9",
   "metadata": {},
   "outputs": [
    {
     "data": {
      "text/plain": [
       "'Python is amazing'"
      ]
     },
     "execution_count": 1,
     "metadata": {},
     "output_type": "execute_result"
    }
   ],
   "source": [
    "text = \"Python is amazing\"\n",
    "text"
   ]
  },
  {
   "cell_type": "markdown",
   "id": "1f93873a",
   "metadata": {
    "id": "bea983a3"
   },
   "source": [
    "### Exercise 2:\n",
    "Find the length of the string `\"Hello, World!\"` and store it in a variable `length`.\n",
    "\n",
    "```python\n",
    "# Exercise 2\n",
    "```\n",
    "\n",
    "---"
   ]
  },
  {
   "cell_type": "code",
   "execution_count": 3,
   "id": "9fccd20e",
   "metadata": {},
   "outputs": [
    {
     "name": "stdout",
     "output_type": "stream",
     "text": [
      "13\n"
     ]
    }
   ],
   "source": [
    "length = len(\"Hello, World!\")\n",
    "print(length)"
   ]
  },
  {
   "cell_type": "markdown",
   "id": "10945124",
   "metadata": {
    "id": "bea983a3"
   },
   "source": [
    "### Exercise 3:\n",
    "Convert the string `\"python programming\"` to uppercase and store it in a variable `upper_text`.\n",
    "\n",
    "```python\n",
    "# Exercise 3\n",
    "```\n",
    "\n",
    "---"
   ]
  },
  {
   "cell_type": "code",
   "execution_count": 4,
   "id": "10059112",
   "metadata": {},
   "outputs": [
    {
     "name": "stdout",
     "output_type": "stream",
     "text": [
      "PYTHON PROGRAMMING\n"
     ]
    }
   ],
   "source": [
    "texts = \"python programming\"\n",
    "upper_text = texts.upper()\n",
    "print(upper_text)"
   ]
  },
  {
   "cell_type": "markdown",
   "id": "8bd3cb5c",
   "metadata": {
    "id": "bea983a3"
   },
   "source": [
    "### Exercise 4:\n",
    "Extract the first 5 characters from the string `\"Artificial Intelligence\"`.\n",
    "\n",
    "```python\n",
    "# Exercise 4\n",
    "```\n",
    "\n",
    "---"
   ]
  },
  {
   "cell_type": "code",
   "execution_count": 7,
   "id": "ebbba636",
   "metadata": {},
   "outputs": [
    {
     "data": {
      "text/plain": [
       "'Artif'"
      ]
     },
     "execution_count": 7,
     "metadata": {},
     "output_type": "execute_result"
    }
   ],
   "source": [
    "string = \"Artificial Intellegence\"\n",
    "string[:5]"
   ]
  },
  {
   "cell_type": "markdown",
   "id": "ad24ddf0",
   "metadata": {
    "id": "bea983a3"
   },
   "source": [
    "### Exercise 5:\n",
    "Concatenate the strings `\"Hello\"` and `\"World\"` with a space in between.\n",
    "\n",
    "```python\n",
    "# Exercise 5\n",
    "```\n",
    "\n",
    "---"
   ]
  },
  {
   "cell_type": "code",
   "execution_count": 8,
   "id": "8175bd01",
   "metadata": {},
   "outputs": [
    {
     "name": "stdout",
     "output_type": "stream",
     "text": [
      "Hello World\n"
     ]
    }
   ],
   "source": [
    "a = \"Hello\"\n",
    "b = \"World\"\n",
    "concat = a + \" \" + b\n",
    "print(concat)"
   ]
  },
  {
   "cell_type": "markdown",
   "id": "14a09e7d",
   "metadata": {
    "id": "bea983a3"
   },
   "source": [
    "### Exercise 6:\n",
    "Replace the word `\"dog\"` with `\"cat\"` in the string `\"The quick brown dog jumps over the lazy dog.\"`.\n",
    "\n",
    "```python\n",
    "# Exercise 6\n",
    "```\n",
    "\n",
    "---"
   ]
  },
  {
   "cell_type": "code",
   "execution_count": 10,
   "id": "d560405a",
   "metadata": {},
   "outputs": [
    {
     "data": {
      "text/plain": [
       "'The quick brown cat jumps over the lazy cat'"
      ]
     },
     "execution_count": 10,
     "metadata": {},
     "output_type": "execute_result"
    }
   ],
   "source": [
    "texts = \"The quick brown dog jumps over the lazy dog\"\n",
    "texts.replace(\"dog\" , \"cat\")"
   ]
  },
  {
   "cell_type": "markdown",
   "id": "8dd024a9",
   "metadata": {
    "id": "bea983a3"
   },
   "source": [
    "### Exercise 7:\n",
    "Split the string `\"apple,banana,orange\"` by commas and store the result in a list `fruits_list`.\n",
    "\n",
    "```python\n",
    "# Exercise 7\n",
    "```\n",
    "\n",
    "---"
   ]
  },
  {
   "cell_type": "code",
   "execution_count": 11,
   "id": "fb0433dd",
   "metadata": {},
   "outputs": [
    {
     "name": "stdout",
     "output_type": "stream",
     "text": [
      "['apple', ' banana', ' orange']\n"
     ]
    }
   ],
   "source": [
    "fruits = \"apple, banana, orange\"\n",
    "fruits_list = fruits.split(\",\")\n",
    "print(fruits_list)"
   ]
  },
  {
   "cell_type": "markdown",
   "id": "3a079be3",
   "metadata": {
    "id": "bea983a3"
   },
   "source": [
    "### Exercise 8:\n",
    "Use string formatting to create the sentence `\"My name is Alice and I am 25 years old.\"`, where the name and age are variables.\n",
    "\n",
    "```python\n",
    "# Exercise 8\n",
    "```\n",
    "\n",
    "---"
   ]
  },
  {
   "cell_type": "code",
   "execution_count": 13,
   "id": "517c39eb",
   "metadata": {},
   "outputs": [
    {
     "name": "stdout",
     "output_type": "stream",
     "text": [
      "My name is Alice and I am 25 years old.\n"
     ]
    }
   ],
   "source": [
    "name = \"Alice\"\n",
    "age = 25\n",
    "print (f\"My name is {name} and I am {age} years old.\")"
   ]
  },
  {
   "cell_type": "markdown",
   "id": "e8629929",
   "metadata": {
    "id": "bea983a3"
   },
   "source": [
    "### Exercise 9:\n",
    "Check if the string `\"python\"` is present in the sentence `\"I love python programming\"`.\n",
    "\n",
    "```python\n",
    "# Exercise 9\n",
    "```\n",
    "\n",
    "---"
   ]
  },
  {
   "cell_type": "code",
   "execution_count": 19,
   "id": "b76eb455",
   "metadata": {},
   "outputs": [
    {
     "data": {
      "text/plain": [
       "7"
      ]
     },
     "execution_count": 19,
     "metadata": {},
     "output_type": "execute_result"
    }
   ],
   "source": [
    "sentence = \"I love python programming\"\n",
    "sentence.find(\"python\")"
   ]
  },
  {
   "cell_type": "markdown",
   "id": "8139d4a6",
   "metadata": {
    "id": "bea983a3"
   },
   "source": [
    "### Exercise 10:\n",
    "Count the number of occurrences of the letter `\"e\"` in the string `\"Elephant is an elegant animal\"`.\n",
    "\n",
    "```python\n",
    "# Exercise 10\n",
    "```\n",
    "\n",
    "---"
   ]
  },
  {
   "cell_type": "code",
   "execution_count": 18,
   "id": "6ff57d03",
   "metadata": {},
   "outputs": [
    {
     "data": {
      "text/plain": [
       "3"
      ]
     },
     "execution_count": 18,
     "metadata": {},
     "output_type": "execute_result"
    }
   ],
   "source": [
    "string = \"Elephant is an elegant animal\"\n",
    "string.count(\"e\")"
   ]
  },
  {
   "cell_type": "markdown",
   "id": "5edf6faa",
   "metadata": {
    "id": "bea983a3"
   },
   "source": [
    "### Exercise 11:\n",
    "Remove any leading and trailing spaces from the string `\"   Data Science   \"`.\n",
    "\n",
    "```python\n",
    "# Exercise 11\n",
    "```\n",
    "\n",
    "---"
   ]
  },
  {
   "cell_type": "code",
   "execution_count": 20,
   "id": "619cab15",
   "metadata": {},
   "outputs": [
    {
     "data": {
      "text/plain": [
       "'DataScience'"
      ]
     },
     "execution_count": 20,
     "metadata": {},
     "output_type": "execute_result"
    }
   ],
   "source": [
    "str1 = \"   Data Science   \"\n",
    "str1.replace(\" \", \"\")"
   ]
  },
  {
   "cell_type": "markdown",
   "id": "a4c25bc9",
   "metadata": {
    "id": "bea983a3"
   },
   "source": [
    "### Exercise 12:\n",
    "Convert the string `\"100\"` into an integer and store it in a variable `int_value`.\n",
    "\n",
    "```python\n",
    "# Exercise 12\n",
    "```\n",
    "\n",
    "---"
   ]
  },
  {
   "cell_type": "code",
   "execution_count": 21,
   "id": "5c0cba1b",
   "metadata": {},
   "outputs": [
    {
     "name": "stdout",
     "output_type": "stream",
     "text": [
      "100\n"
     ]
    }
   ],
   "source": [
    "int_value = int(\"100\")\n",
    "print(int_value)"
   ]
  },
  {
   "cell_type": "markdown",
   "id": "b5d5aa7c",
   "metadata": {
    "id": "bea983a3"
   },
   "source": [
    "### Exercise 13:\n",
    "Extract the substring `\"pro\"` from the string `\"programming\"`.\n",
    "\n",
    "```python\n",
    "# Exercise 13\n",
    "```\n",
    "\n",
    "---"
   ]
  },
  {
   "cell_type": "code",
   "execution_count": 23,
   "id": "2b121364",
   "metadata": {},
   "outputs": [
    {
     "data": {
      "text/plain": [
       "'pro'"
      ]
     },
     "execution_count": 23,
     "metadata": {},
     "output_type": "execute_result"
    }
   ],
   "source": [
    "str2 = \"programming\"\n",
    "str2[:3]"
   ]
  },
  {
   "cell_type": "markdown",
   "id": "631e1eee",
   "metadata": {
    "id": "bea983a3"
   },
   "source": [
    "### Exercise 14:\n",
    "Check if the string `\"data\"` starts with `\"da\"` and ends with `\"ta\"`.\n",
    "\n",
    "```python\n",
    "# Exercise 14\n",
    "```\n",
    "\n",
    "---"
   ]
  },
  {
   "cell_type": "code",
   "execution_count": 26,
   "id": "8ba8f160",
   "metadata": {},
   "outputs": [
    {
     "name": "stdout",
     "output_type": "stream",
     "text": [
      "True\n",
      "True\n"
     ]
    }
   ],
   "source": [
    "str3 = \"data\"\n",
    "print(str3.startswith(\"da\"))\n",
    "print(str3.endswith(\"ta\"))"
   ]
  },
  {
   "cell_type": "markdown",
   "id": "7f9e46c4",
   "metadata": {
    "id": "bea983a3"
   },
   "source": [
    "### Exercise 15:\n",
    "Reverse the string `\"machine learning\"` and store the result in `reversed_text`.\n",
    "\n",
    "```python\n",
    "# Exercise 15\n",
    "```\n",
    "\n",
    "---"
   ]
  },
  {
   "cell_type": "code",
   "execution_count": 30,
   "id": "51c19e33",
   "metadata": {},
   "outputs": [
    {
     "name": "stdout",
     "output_type": "stream",
     "text": [
      "gninrael enihcam\n"
     ]
    }
   ],
   "source": [
    "text = \"machine learning\"\n",
    "reversed_text = text[::-1]\n",
    "print(reversed_text)"
   ]
  },
  {
   "cell_type": "markdown",
   "id": "a27491f7",
   "metadata": {
    "id": "bea983a3"
   },
   "source": [
    "### Exercise 16:\n",
    "Convert the first letter of each word in the string `\"machine learning is fun\"` to uppercase.\n",
    "\n",
    "```python\n",
    "# Exercise 16\n",
    "```"
   ]
  },
  {
   "cell_type": "code",
   "execution_count": 31,
   "id": "2c162f63",
   "metadata": {},
   "outputs": [
    {
     "name": "stdout",
     "output_type": "stream",
     "text": [
      "Machine learning is fun \n"
     ]
    }
   ],
   "source": [
    "str4 = \"machine learning is fun \"\n",
    "print(str4.capitalize())\n",
    "\n"
   ]
  },
  {
   "cell_type": "markdown",
   "id": "c9424150",
   "metadata": {
    "id": "bea983a3"
   },
   "source": [
    "---\n",
    "\n",
    "### Exercise 17:\n",
    "Create a multiline string representing a poem and store it in a variable `poem`.\n",
    "\n",
    "```python\n",
    "# Exercise 17\n",
    "```\n",
    "\n",
    "---"
   ]
  },
  {
   "cell_type": "code",
   "execution_count": 32,
   "id": "96b5f4ac",
   "metadata": {},
   "outputs": [
    {
     "name": "stdout",
     "output_type": "stream",
     "text": [
      "\n",
      "The python code is clean and bright,\n",
      "A symphony of logic, day and night.\n",
      "From simple scripts to framworks grand,\n",
      "\n",
      "\n"
     ]
    }
   ],
   "source": [
    "poem = \"\"\"\n",
    "The python code is clean and bright,\n",
    "A symphony of logic, day and night.\n",
    "From simple scripts to framworks grand,\n",
    "\n",
    "\"\"\"\n",
    "print(poem)"
   ]
  },
  {
   "cell_type": "markdown",
   "id": "b8fb537f",
   "metadata": {
    "id": "bea983a3"
   },
   "source": [
    "### Exercise 18:\n",
    "Write a string to a file named `\"output.txt\"`.\n",
    "\n",
    "```python\n",
    "# Exercise 18\n",
    "```\n",
    "\n",
    "---"
   ]
  },
  {
   "cell_type": "code",
   "execution_count": 33,
   "id": "ff8666ed",
   "metadata": {},
   "outputs": [],
   "source": [
    "with open('output.txt', 'w') as file:\n",
    "    file.write('Hello I am Fatoumata SANE.')"
   ]
  },
  {
   "cell_type": "markdown",
   "id": "404c2fe0",
   "metadata": {
    "id": "bea983a3"
   },
   "source": [
    "### Exercise 19:\n",
    "Read the contents of a file named `\"data.txt\"` and print it line by line.\n",
    "\n",
    "```python\n",
    "# Exercise 19\n",
    "```\n",
    "\n",
    "---"
   ]
  },
  {
   "cell_type": "code",
   "execution_count": 39,
   "id": "5b096d6a",
   "metadata": {},
   "outputs": [
    {
     "name": "stdout",
     "output_type": "stream",
     "text": [
      "Hello I am Fatoumata SANE.\n",
      "I am from Senegal.\n",
      "I am 23 years old.\n",
      "I am a youngest in my family.\n",
      "I love my Family very much.\n"
     ]
    }
   ],
   "source": [
    "file = open('data.txt', 'r')\n",
    "line = file.readline()\n",
    "while line:\n",
    "    print(line, end='')\n",
    "    line = file.readline()\n",
    "file.close()"
   ]
  },
  {
   "cell_type": "markdown",
   "id": "0219f16a",
   "metadata": {
    "id": "bea983a3"
   },
   "source": [
    "### Exercise 20:\n",
    "Check if a file `\"example.txt\"` exists before opening it.\n",
    "\n",
    "```python\n",
    "# Exercise 20\n",
    "```\n",
    "\n",
    "---"
   ]
  },
  {
   "cell_type": "code",
   "execution_count": 2,
   "id": "cd2effd0",
   "metadata": {},
   "outputs": [
    {
     "name": "stdout",
     "output_type": "stream",
     "text": [
      "Contenu du fichier :\n",
      "Hello I am Fatoumata Sane.I am from Senegal and I am 23 years Old.\n",
      "The population is 100000000.\n",
      "Budget increased from 2500000 to 5000000 in 2024.\n",
      "\n",
      "\n"
     ]
    }
   ],
   "source": [
    "import os\n",
    "filename = \"exemple\"\n",
    "\n",
    "# Vérification de l'existence du fichier\n",
    "if os.path.exists(filename):\n",
    "    with open(filename, \"r\") as file:\n",
    "        content = file.read()\n",
    "        print(\"Contenu du fichier :\")\n",
    "        print(content)\n",
    "else:\n",
    "    print(f\"Le fichier '{filename}' n'existe pas.\")\n"
   ]
  },
  {
   "cell_type": "markdown",
   "id": "6f61771c",
   "metadata": {
    "id": "bea983a3"
   },
   "source": [
    "### Exercise 21:\n",
    "Append a new line `\"This is a new line\"` to an existing file `\"notes.txt\"`.\n",
    "\n",
    "```python\n",
    "# Exercise 21\n",
    "```\n",
    "\n",
    "---"
   ]
  },
  {
   "cell_type": "code",
   "execution_count": 3,
   "id": "4deca85b",
   "metadata": {},
   "outputs": [
    {
     "name": "stdout",
     "output_type": "stream",
     "text": [
      "Le fichier 'notes.txt' a été créé (s'il n'existait pas) et la ligne a été ajoutée.\n"
     ]
    }
   ],
   "source": [
    "with open(\"notes.txt\", \"a\") as file:\n",
    "    file.write(\"This is a new line\\n\")\n",
    "\n",
    "print(\"Le fichier 'notes.txt' a été créé (s'il n'existait pas) et la ligne a été ajoutée.\")\n"
   ]
  },
  {
   "cell_type": "markdown",
   "id": "defe48e2",
   "metadata": {
    "id": "bea983a3"
   },
   "source": [
    "### Exercise 22:\n",
    "Read the contents of a file `\"log.txt\"` and store each line in a list `log_lines`.\n",
    "\n",
    "```python\n",
    "# Exercise 22\n",
    "```\n",
    "\n",
    "---"
   ]
  },
  {
   "cell_type": "code",
   "execution_count": 4,
   "id": "63d65c36",
   "metadata": {},
   "outputs": [
    {
     "name": "stdout",
     "output_type": "stream",
     "text": [
      "['User logged in\\n', 'Error: invalid password\\n', 'User logged out\\n', 'User logged in\\n', 'File uploaded successfully\\n', 'User logged out\\n', 'System shutdown initiated\\n']\n"
     ]
    }
   ],
   "source": [
    "with open(\"log.txt\", \"r\") as file:\n",
    "    log_lines = file.readlines()\n",
    "    \n",
    "print(log_lines)\n"
   ]
  },
  {
   "cell_type": "markdown",
   "id": "a25b21e6",
   "metadata": {
    "id": "bea983a3"
   },
   "source": [
    "### Exercise 23:\n",
    "Create a new file `\"report.txt\"` and write the string `\"Data analysis report\"` to it.\n",
    "\n",
    "```python\n",
    "# Exercise 23\n",
    "```\n",
    "\n",
    "---"
   ]
  },
  {
   "cell_type": "code",
   "execution_count": 5,
   "id": "e8d8a072",
   "metadata": {},
   "outputs": [],
   "source": [
    "with open('report.txt', 'w') as file:\n",
    "    file.write('Data analysis report')"
   ]
  },
  {
   "cell_type": "markdown",
   "id": "e0a64214",
   "metadata": {
    "id": "bea983a3"
   },
   "source": [
    "### Exercise 24:\n",
    "Replace the word `\"error\"` with `\"issue\"` in a file `\"log.txt\"`.\n",
    "\n",
    "```python\n",
    "# Exercise 24\n",
    "```\n",
    "\n",
    "---"
   ]
  },
  {
   "cell_type": "code",
   "execution_count": 6,
   "id": "349eb5c6",
   "metadata": {},
   "outputs": [
    {
     "name": "stdout",
     "output_type": "stream",
     "text": [
      "The word 'error' has been replaced with 'issue' in the file 'log.txt'.\n"
     ]
    }
   ],
   "source": [
    "with open(\"log.txt\", \"r\") as file:\n",
    "    content = file.read()\n",
    "\n",
    "content = content.replace(\"Error\", \"Issue\").replace(\"error\", \"issue\")\n",
    "with open(\"log.txt\", \"w\") as file:\n",
    "    file.write(content)\n",
    "\n",
    "print(\"The word 'error' has been replaced with 'issue' in the file 'log.txt'.\")\n"
   ]
  },
  {
   "cell_type": "markdown",
   "id": "668e54e5",
   "metadata": {
    "id": "bea983a3"
   },
   "source": [
    "### Exercise 25:\n",
    "Count the number of words in a text file `\"document.txt\"`.\n",
    "\n",
    "```python\n",
    "# Exercise 25\n",
    "```\n",
    "\n",
    "---"
   ]
  },
  {
   "cell_type": "code",
   "execution_count": 7,
   "id": "77c73c6f",
   "metadata": {},
   "outputs": [
    {
     "name": "stdout",
     "output_type": "stream",
     "text": [
      "the number of words in a text file is : 27\n"
     ]
    }
   ],
   "source": [
    "with open(\"data.txt\", \"r\") as file:\n",
    "    content = file.read()\n",
    "\n",
    "words = content.split()\n",
    "num_words = len(words)\n",
    "\n",
    "print(f\"the number of words in a text file is : {num_words}\")\n"
   ]
  },
  {
   "cell_type": "markdown",
   "id": "351e44ef",
   "metadata": {
    "id": "bea983a3"
   },
   "source": [
    "### Exercise 26:\n",
    "Write a Python script that reads a file `\"essay.txt\"` and prints the total number of lines, words, and characters.\n",
    "\n",
    "```python\n",
    "# Exercise 26\n",
    "```\n",
    "\n",
    "---"
   ]
  },
  {
   "cell_type": "code",
   "execution_count": 8,
   "id": "d9e81c80",
   "metadata": {},
   "outputs": [
    {
     "name": "stdout",
     "output_type": "stream",
     "text": [
      "Total lines: 5\n",
      "Total words: 27\n",
      "Total characters: 123\n"
     ]
    }
   ],
   "source": [
    "with open(\"data.txt\", \"r\") as file:\n",
    "    content = file.read()\n",
    "\n",
    "with open(\"data.txt\", \"r\") as file:\n",
    "    lines = file.readlines()\n",
    "num_lines = len(lines)\n",
    "words = content.split()\n",
    "num_words = len(words)\n",
    "num_chars = len(content)\n",
    "\n",
    "print(f\"Total lines: {num_lines}\")\n",
    "print(f\"Total words: {num_words}\")\n",
    "print(f\"Total characters: {num_chars}\")\n"
   ]
  },
  {
   "cell_type": "markdown",
   "id": "f4fd63ca",
   "metadata": {
    "id": "bea983a3"
   },
   "source": [
    "### Exercise 27:\n",
    "Copy the contents of one file `\"source.txt\"` to another file `\"destination.txt\"`.\n",
    "\n",
    "```python\n",
    "# Exercise 27\n",
    "```\n",
    "\n",
    "---"
   ]
  },
  {
   "cell_type": "code",
   "execution_count": 10,
   "id": "df6b8a38",
   "metadata": {},
   "outputs": [
    {
     "name": "stdout",
     "output_type": "stream",
     "text": [
      "The contents of 'data.txt' have been copied to 'destination.txt'.\n"
     ]
    }
   ],
   "source": [
    "# Lire le contenu du fichier source (ici log.txt)\n",
    "with open(\"data.txt\", \"r\") as source_file:\n",
    "    content = source_file.read()\n",
    "\n",
    "# Écrire le contenu dans le fichier destination\n",
    "with open(\"destination.txt\", \"w\") as dest_file:\n",
    "    dest_file.write(content)\n",
    "\n",
    "print(\"The contents of 'data.txt' have been copied to 'destination.txt'.\")\n"
   ]
  },
  {
   "cell_type": "markdown",
   "id": "d3e2150d",
   "metadata": {
    "id": "bea983a3"
   },
   "source": [
    "### Exercise 28:\n",
    "Write a Python function that takes a filename as input and returns the number of lines in the file.\n",
    "\n",
    "```python\n",
    "# Exercise 28\n",
    "```\n",
    "\n",
    "---"
   ]
  },
  {
   "cell_type": "code",
   "execution_count": 11,
   "id": "3edd074b",
   "metadata": {},
   "outputs": [
    {
     "name": "stdout",
     "output_type": "stream",
     "text": [
      "Number of lines: 5\n"
     ]
    }
   ],
   "source": [
    "def count_lines(filename):\n",
    "    try:\n",
    "        with open(filename, \"r\") as file:\n",
    "            lines = file.readlines()\n",
    "        return len(lines)\n",
    "    except FileNotFoundError:\n",
    "        print(f\"Error: The file '{filename}' does not exist.\")\n",
    "        return 0\n",
    "\n",
    "num_lines = count_lines(\"destination.txt\")\n",
    "print(f\"Number of lines: {num_lines}\")\n"
   ]
  },
  {
   "cell_type": "markdown",
   "id": "211202c3",
   "metadata": {
    "id": "bea983a3"
   },
   "source": [
    "### Exercise 29:\n",
    "Extract all the words from a text file `\"article.txt\"` that contain more than 5 characters.\n",
    "\n",
    "```python\n",
    "# Exercise 29\n",
    "```\n",
    "\n",
    "---"
   ]
  },
  {
   "cell_type": "code",
   "execution_count": 13,
   "id": "306316c2",
   "metadata": {},
   "outputs": [
    {
     "name": "stdout",
     "output_type": "stream",
     "text": [
      "Words longer than 5 characters:\n",
      "['Fatoumata', 'Senegal', 'population', '100000000.', 'Budget', 'increased', '2500000', '5000000']\n"
     ]
    }
   ],
   "source": [
    "with open(\"exemple\", \"r\") as file:\n",
    "    content = file.read()\n",
    "\n",
    "words = content.split()\n",
    "long_words = [word for word in words if len(word) > 5]\n",
    "\n",
    "print(\"Words longer than 5 characters:\")\n",
    "print(long_words)\n"
   ]
  },
  {
   "cell_type": "markdown",
   "id": "5b3cb320",
   "metadata": {
    "id": "bea983a3"
   },
   "source": [
    "### Exercise 30:\n",
    "Convert the contents of a file `\"notes.txt\"` to uppercase and save the result in another file `\"uppercase_notes.txt\"`.\n",
    "\n",
    "```python\n",
    "# Exercise 30\n",
    "```\n",
    "\n",
    "---"
   ]
  },
  {
   "cell_type": "code",
   "execution_count": 16,
   "id": "36028366",
   "metadata": {},
   "outputs": [
    {
     "name": "stdout",
     "output_type": "stream",
     "text": [
      "The contents of 'notes.txt' have been converted to uppercase and saved to 'uppercase_notes.txt'.\n"
     ]
    }
   ],
   "source": [
    "with open(\"notes.txt\", \"r\") as source_file:\n",
    "    content = source_file.read()\n",
    "    \n",
    "uppercase_content = content.upper()\n",
    "\n",
    "with open(\"uppercase_notes.txt\", \"w\") as dest_file:\n",
    "    dest_file.write(uppercase_content)\n",
    "\n",
    "print(\"The contents of 'notes.txt' have been converted to uppercase and saved to 'uppercase_notes.txt'.\")\n"
   ]
  },
  {
   "cell_type": "markdown",
   "id": "7d9210e9",
   "metadata": {
    "id": "bea983a3"
   },
   "source": [
    "### Exercise 31:\n",
    "Write a Python script that reads a file and removes all empty lines.\n",
    "\n",
    "```python\n",
    "# Exercise 31\n",
    "```\n",
    "\n",
    "---"
   ]
  },
  {
   "cell_type": "code",
   "execution_count": 17,
   "id": "03243f70",
   "metadata": {},
   "outputs": [
    {
     "name": "stdout",
     "output_type": "stream",
     "text": [
      "Empty lines have been removed from the file 'log.txt'.\n"
     ]
    }
   ],
   "source": [
    "filename = \"log.txt\" \n",
    "with open(filename, \"r\") as file:\n",
    "    lines = file.readlines()\n",
    "    \n",
    "non_empty_lines = [line for line in lines if line.strip() != \"\"]\n",
    "\n",
    "with open(filename, \"w\") as file:\n",
    "    file.writelines(non_empty_lines)\n",
    "\n",
    "print(f\"Empty lines have been removed from the file '{filename}'.\")\n"
   ]
  },
  {
   "cell_type": "markdown",
   "id": "a53b04fc",
   "metadata": {
    "id": "bea983a3"
   },
   "source": [
    "### Exercise 32:\n",
    "Open a file `\"config.txt\"` in both read and write mode.\n",
    "\n",
    "```python\n",
    "# Exercise 32\n",
    "```\n",
    "\n",
    "---"
   ]
  },
  {
   "cell_type": "code",
   "execution_count": 18,
   "id": "9ffd04e1",
   "metadata": {},
   "outputs": [
    {
     "name": "stdout",
     "output_type": "stream",
     "text": [
      "Initial content of the file:\n",
      "Hello I am Fatoumata SANE.\n",
      "I am from Senegal.\n",
      "I am 23 years old.\n",
      "I am a youngest in my family.\n",
      "I love my Family very much.\n",
      "\n",
      "File opened in read/write mode and modified successfully.\n"
     ]
    }
   ],
   "source": [
    "try:\n",
    "    with open(\"data.txt\", \"r+\") as file:\n",
    "        content = file.read()\n",
    "        print(\"Initial content of the file:\")\n",
    "        print(content)\n",
    "\n",
    "        file.write(\"\\n# Added a new configuration line\")\n",
    "\n",
    "    print(\"File opened in read/write mode and modified successfully.\")\n",
    "except FileNotFoundError:\n",
    "    print(\"The file 'config.txt' does not exist.\")\n"
   ]
  },
  {
   "cell_type": "markdown",
   "id": "eba7e5f6",
   "metadata": {
    "id": "bea983a3"
   },
   "source": [
    "### Exercise 33:\n",
    "Write a Python function that reads a file and prints the longest line in the file.\n",
    "\n",
    "```python\n",
    "# Exercise 33\n",
    "```\n",
    "\n",
    "---"
   ]
  },
  {
   "cell_type": "markdown",
   "id": "9ad8926d",
   "metadata": {
    "id": "bea983a3"
   },
   "source": [
    "### Exercise 34:\n",
    "Write a Python script to count the frequency of each letter in a text file `\"message.txt\"`.\n",
    "\n",
    "```python\n",
    "# Exercise 34\n",
    "```\n",
    "\n",
    "---"
   ]
  },
  {
   "cell_type": "code",
   "execution_count": 19,
   "id": "a88e046c",
   "metadata": {},
   "outputs": [
    {
     "name": "stdout",
     "output_type": "stream",
     "text": [
      "Frequency of each letter:\n",
      "a: 16\n",
      "c: 2\n",
      "d: 4\n",
      "e: 11\n",
      "f: 5\n",
      "g: 3\n",
      "h: 2\n",
      "i: 11\n",
      "l: 8\n",
      "m: 11\n",
      "n: 8\n",
      "o: 8\n",
      "r: 4\n",
      "s: 4\n",
      "t: 4\n",
      "u: 4\n",
      "v: 2\n",
      "w: 1\n",
      "y: 7\n"
     ]
    }
   ],
   "source": [
    "from collections import Counter\n",
    "import string\n",
    "\n",
    "with open(\"data.txt\", \"r\") as file:\n",
    "    content = file.read()\n",
    "\n",
    "letters_only = [char.lower() for char in content if char.isalpha()]\n",
    "\n",
    "letter_counts = Counter(letters_only)\n",
    "\n",
    "\n",
    "\n",
    "print(\"Frequency of each letter:\")\n",
    "for letter, count in sorted(letter_counts.items()):\n",
    "    print(f\"{letter}: {count}\")\n"
   ]
  },
  {
   "cell_type": "markdown",
   "id": "1c581a9e",
   "metadata": {
    "id": "bea983a3"
   },
   "source": [
    "### Exercise 35:\n",
    "Write a Python script that reads a file and prints the total number of characters, excluding spaces.\n",
    "\n",
    "```python\n",
    "# Exercise 35\n",
    "```\n",
    "\n",
    "---"
   ]
  },
  {
   "cell_type": "code",
   "execution_count": 20,
   "id": "c732eac0",
   "metadata": {},
   "outputs": [
    {
     "name": "stdout",
     "output_type": "stream",
     "text": [
      "Total number of characters (excluding spaces): 124\n"
     ]
    }
   ],
   "source": [
    "with open(\"exemple\", \"r\") as file:\n",
    "    content = file.read()\n",
    "    \n",
    "num_chars = len(content.replace(\" \", \"\"))\n",
    "\n",
    "print(f\"Total number of characters (excluding spaces): {num_chars}\")\n"
   ]
  },
  {
   "cell_type": "markdown",
   "id": "969ea078",
   "metadata": {
    "id": "bea983a3"
   },
   "source": [
    "### Exercise 36:\n",
    "Create a Python script to check whether a file is empty or not.\n",
    "\n",
    "```python\n",
    "# Exercise 36\n",
    "```\n",
    "\n",
    "---"
   ]
  },
  {
   "cell_type": "code",
   "execution_count": 21,
   "id": "6ea2eedc",
   "metadata": {},
   "outputs": [
    {
     "name": "stdout",
     "output_type": "stream",
     "text": [
      "The file 'exemple' is not empty.\n"
     ]
    }
   ],
   "source": [
    "import os\n",
    "\n",
    "filename = \"exemple\"  \n",
    "\n",
    "if os.path.exists(filename):\n",
    "    if os.path.getsize(filename) == 0:\n",
    "        print(f\"The file '{filename}' is empty.\")\n",
    "    else:\n",
    "        print(f\"The file '{filename}' is not empty.\")\n",
    "else:\n",
    "    print(f\"The file '{filename}' does not exist.\")\n"
   ]
  },
  {
   "cell_type": "code",
   "execution_count": 22,
   "id": "cfb5b2c4",
   "metadata": {},
   "outputs": [
    {
     "name": "stdout",
     "output_type": "stream",
     "text": [
      "The file 'output2' is empty.\n"
     ]
    }
   ],
   "source": [
    "import os\n",
    "\n",
    "filename = \"output2\"  \n",
    "\n",
    "if os.path.exists(filename):\n",
    "    if os.path.getsize(filename) == 0:\n",
    "        print(f\"The file '{filename}' is empty.\")\n",
    "    else:\n",
    "        print(f\"The file '{filename}' is not empty.\")\n",
    "else:\n",
    "    print(f\"The file '{filename}' does not exist.\")\n"
   ]
  },
  {
   "cell_type": "markdown",
   "id": "0b503e08",
   "metadata": {
    "id": "bea983a3"
   },
   "source": [
    "### Exercise 37:\n",
    "Write a Python function that reads a file and removes all punctuation marks from the text.\n",
    "\n",
    "```python\n",
    "# Exercise 37\n",
    "```\n",
    "\n",
    "---"
   ]
  },
  {
   "cell_type": "code",
   "execution_count": 23,
   "id": "a0e51fa5",
   "metadata": {},
   "outputs": [
    {
     "name": "stdout",
     "output_type": "stream",
     "text": [
      "Text without punctuation:\n",
      "Hello I am Fatoumata SANE\n",
      "I am from Senegal\n",
      "I am 23 years old\n",
      "I am a youngest in my family\n",
      "I love my Family very much\n",
      "\n",
      " Added a new configuration line\n"
     ]
    }
   ],
   "source": [
    "import string\n",
    "\n",
    "\n",
    "with open(\"data.txt\", \"r\") as file:\n",
    "    content = file.read()\n",
    "\n",
    "for punct in string.punctuation:\n",
    "    content = content.replace(punct, \"\")\n",
    "\n",
    "print(\"Text without punctuation:\")\n",
    "print(content)\n"
   ]
  },
  {
   "cell_type": "markdown",
   "id": "3dd4fdc8",
   "metadata": {
    "id": "bea983a3"
   },
   "source": [
    "### Exercise 38:\n",
    "Create a Python function that writes a list of strings to a file, each string on a new line.\n",
    "\n",
    "```python\n",
    "# Exercise 38\n",
    "```\n",
    "\n",
    "---"
   ]
  },
  {
   "cell_type": "code",
   "execution_count": 24,
   "id": "ee583e7a",
   "metadata": {},
   "outputs": [
    {
     "name": "stdout",
     "output_type": "stream",
     "text": [
      "The list has been written to 'output.txt'.\n"
     ]
    }
   ],
   "source": [
    "def write_list(filename, string_list):\n",
    "    with open(filename, \"w\") as file:\n",
    "        for item in string_list:\n",
    "            file.write(item + \"\\n\")  \n",
    "            \n",
    "            \n",
    "            \n",
    "            \n",
    "my_list = [\"Hello\", \"Python\", \"is fun\", \"Let's code!\"]\n",
    "write_list(\"output.txt\", my_list)\n",
    "print(\"The list has been written to 'output.txt'.\")\n"
   ]
  },
  {
   "cell_type": "markdown",
   "id": "0169b803",
   "metadata": {
    "id": "bea983a3"
   },
   "source": [
    "### Exercise 39:\n",
    "Write a Python script to count the number of lines that start with a specific letter (e.g., \"A\") in a text file.\n",
    "\n",
    "```python\n",
    "# Exercise 39\n",
    "```\n",
    "\n",
    "---"
   ]
  },
  {
   "cell_type": "code",
   "execution_count": 26,
   "id": "fc3b5795",
   "metadata": {},
   "outputs": [
    {
     "name": "stdout",
     "output_type": "stream",
     "text": [
      "Number of lines starting with 'I': 4\n"
     ]
    }
   ],
   "source": [
    "filename = \"data.txt\"  \n",
    "letter = \"I\"          \n",
    "count = 0\n",
    "\n",
    "with open(filename, \"r\") as file:\n",
    "    for line in file:\n",
    "        if line.startswith(letter):\n",
    "            count += 1\n",
    "\n",
    "print(f\"Number of lines starting with '{letter}': {count}\")\n"
   ]
  },
  {
   "cell_type": "markdown",
   "id": "1fe11dd5",
   "metadata": {
    "id": "bea983a3"
   },
   "source": [
    "### Exercise 40:\n",
    "Write a Python function that takes a string as input and writes it to a file `\"output.txt\"` in reverse order.\n",
    "\n",
    "```python\n",
    "# Exercise 40\n",
    "```\n",
    "\n",
    "---"
   ]
  },
  {
   "cell_type": "code",
   "execution_count": 27,
   "id": "12d3ae66",
   "metadata": {},
   "outputs": [
    {
     "name": "stdout",
     "output_type": "stream",
     "text": [
      "The reversed text has been written to 'output.txt'.\n"
     ]
    }
   ],
   "source": [
    "def write_reverse(text):\n",
    "    reversed_text = text[::-1]  \n",
    "    with open(\"output.txt\", \"w\") as file:\n",
    "        file.write(reversed_text)\n",
    "\n",
    "        \n",
    "write_reverse(\"Hello Python\")\n",
    "print(\"The reversed text has been written to 'output.txt'.\")\n"
   ]
  },
  {
   "cell_type": "markdown",
   "id": "b0fd3a2f",
   "metadata": {
    "id": "bea983a3"
   },
   "source": [
    "### Exercise 41:\n",
    "Write a Python script that reads a file and prints all the lines that contain the word `\"Python\"`.\n",
    "\n",
    "```python\n",
    "# Exercise 41\n",
    "```\n",
    "\n",
    "---"
   ]
  },
  {
   "cell_type": "code",
   "execution_count": 28,
   "id": "bcbe0b20",
   "metadata": {},
   "outputs": [
    {
     "name": "stdout",
     "output_type": "stream",
     "text": [
      "Python is fun\n",
      "Python Programming\n"
     ]
    }
   ],
   "source": [
    "filename = \"output1\" \n",
    "\n",
    "with open(filename, \"r\") as file:\n",
    "    for line in file:\n",
    "        if \"Pyt\" in line:\n",
    "            print(line.strip()) \n"
   ]
  },
  {
   "cell_type": "markdown",
   "id": "92cd177b",
   "metadata": {
    "id": "bea983a3"
   },
   "source": [
    "### Exercise 42:\n",
    "Write a Python script that opens a file and removes all numeric digits from the file's content.\n",
    "\n",
    "```python\n",
    "# Exercise 42\n",
    "```\n",
    "\n",
    "---"
   ]
  },
  {
   "cell_type": "code",
   "execution_count": 29,
   "id": "e78c01ba",
   "metadata": {},
   "outputs": [
    {
     "name": "stdout",
     "output_type": "stream",
     "text": [
      "All numeric digits have been removed from 'exemple'.\n"
     ]
    }
   ],
   "source": [
    "filename = \"exemple\"\n",
    "with open(filename, \"r\") as file:\n",
    "    content = file.read()\n",
    "\n",
    "for digit in \"0123456789\":\n",
    "    content = content.replace(digit, \"\")\n",
    "\n",
    "with open(filename, \"w\") as file:\n",
    "    file.write(content)\n",
    "\n",
    "print(f\"All numeric digits have been removed from '{filename}'.\")\n"
   ]
  },
  {
   "cell_type": "markdown",
   "id": "0bbd4bd6",
   "metadata": {
    "id": "bea983a3"
   },
   "source": [
    "### Exercise 43:\n",
    "Write a Python script to find the most frequent word in a text file `\"book.txt\"`.\n",
    "\n",
    "```python\n",
    "# Exercise 43\n",
    "```\n",
    "\n",
    "---"
   ]
  },
  {
   "cell_type": "markdown",
   "id": "0a54f61c",
   "metadata": {
    "id": "bea983a3"
   },
   "source": [
    "### Exercise 44:\n",
    "Write a Python script that reads a file and prints all the lines that contain exactly 5 words.\n",
    "\n",
    "```python\n",
    "# Exercise 44\n",
    "```\n",
    "\n",
    "---"
   ]
  },
  {
   "cell_type": "markdown",
   "id": "4af29f8a",
   "metadata": {
    "id": "bea983a3"
   },
   "source": [
    "### Exercise 45:\n",
    "Write a Python script to read a file and print the first and last line of the file.\n",
    "\n",
    "```python\n",
    "# Exercise 45\n",
    "```\n",
    "\n",
    "---"
   ]
  },
  {
   "cell_type": "markdown",
   "id": "f7690e45",
   "metadata": {
    "id": "bea983a3"
   },
   "source": [
    "### Exercise 46:\n",
    "Write a Python script that checks if a file `\"students.txt\"` is writable.\n",
    "\n",
    "```python\n",
    "# Exercise 46\n",
    "```\n",
    "\n",
    "---"
   ]
  },
  {
   "cell_type": "markdown",
   "id": "79b31015",
   "metadata": {
    "id": "bea983a3"
   },
   "source": [
    "### Exercise 47:\n",
    "Create a Python function that opens a file and returns the number of unique words in the file.\n",
    "\n",
    "```python\n",
    "# Exercise 47\n",
    "```\n",
    "\n",
    "---"
   ]
  },
  {
   "cell_type": "markdown",
   "id": "dd9fae23",
   "metadata": {
    "id": "bea983a3"
   },
   "source": [
    "### Exercise 48:\n",
    "Write a Python script that reads a file and prints all lines in reverse order.\n",
    "\n",
    "```python\n",
    "# Exercise 48\n",
    "```\n",
    "\n",
    "---"
   ]
  },
  {
   "cell_type": "markdown",
   "id": "990a76d2",
   "metadata": {
    "id": "bea983a3"
   },
   "source": [
    "### Exercise 49:\n",
    "Write a Python function that reads a file and returns the most common letter in the text.\n",
    "\n",
    "```python\n",
    "# Exercise 49\n",
    "```\n",
    "\n",
    "---"
   ]
  },
  {
   "cell_type": "markdown",
   "id": "bea983a3",
   "metadata": {
    "id": "bea983a3"
   },
   "source": [
    "### Exercise 50:\n",
    "Write a Python script that reads a file and replaces every occurrence of `\"Python\"` with `\"Java\"`.\n",
    "\n",
    "```python\n",
    "# Exercise 50\n",
    "```\n",
    "\n",
    "---"
   ]
  },
  {
   "cell_type": "code",
   "execution_count": null,
   "id": "dcf6ca38",
   "metadata": {
    "id": "dcf6ca38"
   },
   "outputs": [],
   "source": []
  }
 ],
 "metadata": {
  "colab": {
   "provenance": []
  },
  "kernelspec": {
   "display_name": "Python 3",
   "language": "python",
   "name": "python3"
  },
  "language_info": {
   "codemirror_mode": {
    "name": "ipython",
    "version": 3
   },
   "file_extension": ".py",
   "mimetype": "text/x-python",
   "name": "python",
   "nbconvert_exporter": "python",
   "pygments_lexer": "ipython3",
   "version": "3.8.8"
  }
 },
 "nbformat": 4,
 "nbformat_minor": 5
}
