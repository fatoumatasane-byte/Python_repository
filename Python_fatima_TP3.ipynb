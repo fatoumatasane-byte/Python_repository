{
 "cells": [
  {
   "cell_type": "markdown",
   "id": "d68c1dee",
   "metadata": {
    "id": "d68c1dee"
   },
   "source": [
    "# Practical_3: Iterable objects or Containers"
   ]
  },
  {
   "cell_type": "markdown",
   "id": "63f7c2a5",
   "metadata": {
    "id": "bea983a3"
   },
   "source": [
    "### Exercise 1:\n",
    "Create a list of integers from 1 to 10."
   ]
  },
  {
   "cell_type": "code",
   "execution_count": 1,
   "id": "225f6799",
   "metadata": {},
   "outputs": [
    {
     "data": {
      "text/plain": [
       "[1, 2, 3, 4, 5, 6, 7, 8, 9, 10]"
      ]
     },
     "execution_count": 1,
     "metadata": {},
     "output_type": "execute_result"
    }
   ],
   "source": [
    "lists = [1,2,3,4,5,6,7,8,9,10]\n",
    "lists\n"
   ]
  },
  {
   "cell_type": "markdown",
   "id": "a70f9712",
   "metadata": {
    "id": "bea983a3"
   },
   "source": [
    "### Exercise 2:\n",
    "Create a tuple containing the elements `\"apple\"`, `\"banana\"`, and `\"cherry\"`."
   ]
  },
  {
   "cell_type": "code",
   "execution_count": 2,
   "id": "6c9af517",
   "metadata": {},
   "outputs": [
    {
     "data": {
      "text/plain": [
       "('apple', 'banana', 'cherry')"
      ]
     },
     "execution_count": 2,
     "metadata": {},
     "output_type": "execute_result"
    }
   ],
   "source": [
    "Tuples = (\"apple\",\"banana\",\"cherry\")\n",
    "Tuples"
   ]
  },
  {
   "cell_type": "markdown",
   "id": "482071e2",
   "metadata": {
    "id": "bea983a3"
   },
   "source": [
    "### Exercise 3:\n",
    "Convert the list `numbers = [10, 20, 30, 40]` into a tuple."
   ]
  },
  {
   "cell_type": "code",
   "execution_count": 3,
   "id": "dd9badf2",
   "metadata": {},
   "outputs": [
    {
     "data": {
      "text/plain": [
       "tuple"
      ]
     },
     "execution_count": 3,
     "metadata": {},
     "output_type": "execute_result"
    }
   ],
   "source": [
    "numbers = [10, 20, 30, 40]\n",
    "tuples = tuple(numbers)\n",
    "tuples\n",
    "type(tuples)"
   ]
  },
  {
   "cell_type": "markdown",
   "id": "df087121",
   "metadata": {
    "id": "bea983a3"
   },
   "source": [
    "### Exercise 4:\n",
    "Create a set containing the elements `1, 2, 3, 4, 5`."
   ]
  },
  {
   "cell_type": "code",
   "execution_count": 4,
   "id": "a624e0e2",
   "metadata": {},
   "outputs": [
    {
     "data": {
      "text/plain": [
       "{1, 2, 3, 4, 5}"
      ]
     },
     "execution_count": 4,
     "metadata": {},
     "output_type": "execute_result"
    }
   ],
   "source": [
    "my_set = {1,2,3,4,5}\n",
    "my_set"
   ]
  },
  {
   "cell_type": "markdown",
   "id": "0a27810d",
   "metadata": {
    "id": "bea983a3"
   },
   "source": [
    "### Exercise 5:\n",
    "Create a dictionary `student` with the keys `\"name\"`, `\"age\"`, and `\"grade\"` and corresponding values `\"Alice\"`, `20`, and `\"A\"`."
   ]
  },
  {
   "cell_type": "code",
   "execution_count": 5,
   "id": "deaab38a",
   "metadata": {},
   "outputs": [
    {
     "data": {
      "text/plain": [
       "{'name': 'Alice', 'age': 20, 'grade': 'A'}"
      ]
     },
     "execution_count": 5,
     "metadata": {},
     "output_type": "execute_result"
    }
   ],
   "source": [
    "student = {\"name\": \"Alice\",\"age\": 20,\"grade\":\"A\"}\n",
    "student"
   ]
  },
  {
   "cell_type": "markdown",
   "id": "ff2fb7a9",
   "metadata": {
    "id": "bea983a3"
   },
   "source": [
    "### Exercise 6:\n",
    "Access the second element of the list `[10, 20, 30, 40, 50]` using indexing."
   ]
  },
  {
   "cell_type": "code",
   "execution_count": 6,
   "id": "d9035669",
   "metadata": {},
   "outputs": [
    {
     "data": {
      "text/plain": [
       "20"
      ]
     },
     "execution_count": 6,
     "metadata": {},
     "output_type": "execute_result"
    }
   ],
   "source": [
    "liste = [10, 20, 30, 40, 50]\n",
    "liste[1]"
   ]
  },
  {
   "cell_type": "markdown",
   "id": "7af3e521",
   "metadata": {
    "id": "bea983a3"
   },
   "source": [
    "### Exercise 7:\n",
    "Change the third element of the list `fruits = [\"apple\", \"banana\", \"cherry\", \"orange\"]` to `\"mango\"`."
   ]
  },
  {
   "cell_type": "code",
   "execution_count": 7,
   "id": "56d2e132",
   "metadata": {},
   "outputs": [
    {
     "data": {
      "text/plain": [
       "['apple', 'banana', 'mango', 'orange']"
      ]
     },
     "execution_count": 7,
     "metadata": {},
     "output_type": "execute_result"
    }
   ],
   "source": [
    "fruits = [\"apple\", \"banana\", \"cherry\", \"orange\"]\n",
    "fruits[2] = \"mango\"\n",
    "fruits"
   ]
  },
  {
   "cell_type": "markdown",
   "id": "c8450589",
   "metadata": {
    "id": "bea983a3"
   },
   "source": [
    "### Exercise 8:\n",
    "Add the number `6` to the set `numbers = {1, 2, 3, 4, 5}`."
   ]
  },
  {
   "cell_type": "code",
   "execution_count": 8,
   "id": "49ab53ac",
   "metadata": {},
   "outputs": [
    {
     "name": "stdout",
     "output_type": "stream",
     "text": [
      "{1, 2, 3, 4, 5, 6}\n"
     ]
    }
   ],
   "source": [
    "numbers = {1, 2, 3, 4, 5}\n",
    "numbers.add(6)\n",
    "print(numbers)"
   ]
  },
  {
   "cell_type": "markdown",
   "id": "98aa7f2d",
   "metadata": {
    "id": "bea983a3"
   },
   "source": [
    "### Exercise 9:\n",
    "Remove the key `\"age\"` from the dictionary `person = {\"name\": \"John\", \"age\": 25, \"city\": \"New York\"}`."
   ]
  },
  {
   "cell_type": "code",
   "execution_count": 9,
   "id": "8cf92b5c",
   "metadata": {},
   "outputs": [
    {
     "data": {
      "text/plain": [
       "{'name': 'John', 'city': 'New York'}"
      ]
     },
     "execution_count": 9,
     "metadata": {},
     "output_type": "execute_result"
    }
   ],
   "source": [
    "person = {\"name\": \"John\", \"age\": 25, \"city\": \"New York\"}\n",
    "del person[\"age\"]\n",
    "person"
   ]
  },
  {
   "cell_type": "markdown",
   "id": "d0fe79f5",
   "metadata": {
    "id": "bea983a3"
   },
   "source": [
    "### Exercise 10:\n",
    "Create a range object starting from 0 to 9."
   ]
  },
  {
   "cell_type": "code",
   "execution_count": 10,
   "id": "50751398",
   "metadata": {},
   "outputs": [
    {
     "name": "stdout",
     "output_type": "stream",
     "text": [
      "0\n",
      "1\n",
      "2\n",
      "3\n",
      "4\n",
      "5\n",
      "6\n",
      "7\n",
      "8\n"
     ]
    }
   ],
   "source": [
    "for i in range(9):\n",
    "    print(i)"
   ]
  },
  {
   "cell_type": "markdown",
   "id": "dc9da021",
   "metadata": {
    "id": "bea983a3"
   },
   "source": [
    "### Exercise 11:\n",
    "Use a list comprehension to create a list of squares of numbers from 1 to 10."
   ]
  },
  {
   "cell_type": "code",
   "execution_count": 11,
   "id": "4281ed7e",
   "metadata": {},
   "outputs": [
    {
     "name": "stdout",
     "output_type": "stream",
     "text": [
      "[1, 4, 9, 16, 25, 36, 49, 64, 81, 100]\n"
     ]
    }
   ],
   "source": [
    "squares = [x**2 for x in range(1, 11)]\n",
    "print(squares)"
   ]
  },
  {
   "cell_type": "markdown",
   "id": "5fce476c",
   "metadata": {
    "id": "bea983a3"
   },
   "source": [
    "### Exercise 12:\n",
    "Create a tuple of even numbers between 2 and 10 using a tuple comprehension."
   ]
  },
  {
   "cell_type": "code",
   "execution_count": 12,
   "id": "200777cb",
   "metadata": {},
   "outputs": [
    {
     "name": "stdout",
     "output_type": "stream",
     "text": [
      "(2, 4, 6, 8, 10)\n"
     ]
    }
   ],
   "source": [
    "even_numbers = tuple(x for x in range(2, 11) if x % 2 == 0)\n",
    "print(even_numbers)\n"
   ]
  },
  {
   "cell_type": "markdown",
   "id": "20d52344",
   "metadata": {
    "id": "bea983a3"
   },
   "source": [
    "### Exercise 13:\n",
    "Use a for loop to iterate through the list `fruits = [\"apple\", \"banana\", \"cherry\"]` and print each element."
   ]
  },
  {
   "cell_type": "code",
   "execution_count": 13,
   "id": "e529d784",
   "metadata": {},
   "outputs": [
    {
     "name": "stdout",
     "output_type": "stream",
     "text": [
      "apple\n",
      "banana\n",
      "cherry\n"
     ]
    }
   ],
   "source": [
    "fruits = [\"apple\", \"banana\", \"cherry\"]\n",
    "\n",
    "for fruit in fruits:\n",
    "    print(fruit)"
   ]
  },
  {
   "cell_type": "markdown",
   "id": "cd3624fd",
   "metadata": {
    "id": "bea983a3"
   },
   "source": [
    "### Exercise 14:\n",
    "Check if the value `3` exists in the set `numbers = {1, 2, 3, 4, 5}`."
   ]
  },
  {
   "cell_type": "code",
   "execution_count": 15,
   "id": "64586c10",
   "metadata": {},
   "outputs": [
    {
     "name": "stdout",
     "output_type": "stream",
     "text": [
      "3 exists in the set.\n"
     ]
    }
   ],
   "source": [
    "numbers = {1, 2, 3, 4, 5}\n",
    "\n",
    "if 3 in numbers:\n",
    "    print(\"3 exists in the set.\")\n",
    "else:\n",
    "    print(\"3 does not exist in the set.\")\n"
   ]
  },
  {
   "cell_type": "markdown",
   "id": "85452d7a",
   "metadata": {
    "id": "bea983a3"
   },
   "source": [
    "### Exercise 15:\n",
    "Use the `len()` function to find the length of the tuple `numbers = (10, 20, 30)`."
   ]
  },
  {
   "cell_type": "code",
   "execution_count": 16,
   "id": "ae6b8e3b",
   "metadata": {},
   "outputs": [
    {
     "data": {
      "text/plain": [
       "3"
      ]
     },
     "execution_count": 16,
     "metadata": {},
     "output_type": "execute_result"
    }
   ],
   "source": [
    "numbers = (10,20,30)\n",
    "length = len(numbers)\n",
    "length"
   ]
  },
  {
   "cell_type": "markdown",
   "id": "f14e32fe",
   "metadata": {
    "id": "bea983a3"
   },
   "source": [
    "### Exercise 16:\n",
    "Add the value `100` at the end of the list `scores = [80, 85, 90, 95]`."
   ]
  },
  {
   "cell_type": "code",
   "execution_count": 17,
   "id": "026f17fd",
   "metadata": {},
   "outputs": [
    {
     "data": {
      "text/plain": [
       "[80, 85, 90, 95, 100]"
      ]
     },
     "execution_count": 17,
     "metadata": {},
     "output_type": "execute_result"
    }
   ],
   "source": [
    "scores = [80,85,90,95]\n",
    "scores.append(100)\n",
    "scores"
   ]
  },
  {
   "cell_type": "markdown",
   "id": "ed55a4c8",
   "metadata": {
    "id": "bea983a3"
   },
   "source": [
    "### Exercise 17:\n",
    "Write a function that takes a list as input and returns the sum of all elements in the list."
   ]
  },
  {
   "cell_type": "code",
   "execution_count": 18,
   "id": "5e1df864",
   "metadata": {},
   "outputs": [],
   "source": [
    "def sum_list(elements):\n",
    "    total = 0\n",
    "    for item in elements:\n",
    "        total += item\n",
    "    return total\n",
    "\n",
    "    "
   ]
  },
  {
   "cell_type": "code",
   "execution_count": 19,
   "id": "faecfb55",
   "metadata": {},
   "outputs": [
    {
     "name": "stdout",
     "output_type": "stream",
     "text": [
      "Sum: 15\n"
     ]
    }
   ],
   "source": [
    "my_list = [1, 2, 3, 4, 5]\n",
    "result = sum_list(my_list)\n",
    "print(\"Sum:\", result)\n"
   ]
  },
  {
   "cell_type": "markdown",
   "id": "b3e2d58f",
   "metadata": {
    "id": "bea983a3"
   },
   "source": [
    "### Exercise 18:\n",
    "Create a set containing the unique elements of the list `numbers = [1, 2, 2, 3, 4, 4, 5]`."
   ]
  },
  {
   "cell_type": "code",
   "execution_count": 25,
   "id": "75a908b6",
   "metadata": {},
   "outputs": [
    {
     "name": "stdout",
     "output_type": "stream",
     "text": [
      "{1, 2, 3, 4, 5}\n"
     ]
    }
   ],
   "source": [
    "numbers = [1, 2, 2, 3, 4, 4, 5]\n",
    "unique_numbers = set(numbers)\n",
    "print(unique_numbers)\n"
   ]
  },
  {
   "cell_type": "markdown",
   "id": "0e2c88f6",
   "metadata": {
    "id": "bea983a3"
   },
   "source": [
    "### Exercise 19:\n",
    "Convert the string `\"hello\"` into a list of characters."
   ]
  },
  {
   "cell_type": "code",
   "execution_count": 20,
   "id": "24a4429e",
   "metadata": {},
   "outputs": [
    {
     "data": {
      "text/plain": [
       "['h', 'e', 'l', 'l', 'o']"
      ]
     },
     "execution_count": 20,
     "metadata": {},
     "output_type": "execute_result"
    }
   ],
   "source": [
    "string = \"hello\"\n",
    "liste = list(string)\n",
    "liste"
   ]
  },
  {
   "cell_type": "markdown",
   "id": "95006732",
   "metadata": {
    "id": "bea983a3"
   },
   "source": [
    "### Exercise 20:\n",
    "Write a Python function that reverses a tuple `(1, 2, 3, 4)`."
   ]
  },
  {
   "cell_type": "code",
   "execution_count": 22,
   "id": "1ba1cc5d",
   "metadata": {
    "id": "bea983a3"
   },
   "outputs": [
    {
     "data": {
      "text/plain": [
       "(4, 3, 2, 1)"
      ]
     },
     "execution_count": 22,
     "metadata": {},
     "output_type": "execute_result"
    }
   ],
   "source": [
    "tuples = (1, 2, 3, 4)\n",
    "inv_tuple = tuples[::-1]\n",
    "inv_tuple"
   ]
  },
  {
   "cell_type": "markdown",
   "id": "833a509d",
   "metadata": {
    "id": "bea983a3"
   },
   "source": [
    "### Exercise 21:\n",
    "Merge two dictionaries `dict1 = {\"a\": 1, \"b\": 2}` and `dict2 = {\"c\": 3, \"d\": 4}` into a single dictionary."
   ]
  },
  {
   "cell_type": "code",
   "execution_count": 24,
   "id": "616d99da",
   "metadata": {
    "id": "bea983a3"
   },
   "outputs": [
    {
     "name": "stdout",
     "output_type": "stream",
     "text": [
      "{'a': 1, 'b': 2, 'c': 3, 'd': 4}\n"
     ]
    }
   ],
   "source": [
    "dict1 = {\"a\": 1, \"b\": 2}\n",
    "dict2 = {\"c\": 3, \"d\": 4}\n",
    "dict3 = dict1 |  dict2\n",
    "print(dict3)"
   ]
  },
  {
   "cell_type": "markdown",
   "id": "40f2f31b",
   "metadata": {
    "id": "bea983a3"
   },
   "source": [
    "### Exercise 22:\n",
    "Create a dictionary where keys are numbers from 1 to 5, and values are their squares."
   ]
  },
  {
   "cell_type": "code",
   "execution_count": null,
   "id": "c6c05d3d",
   "metadata": {},
   "outputs": [],
   "source": [
    "dict1 = {\"1\": 1**2, \"2\":2**2,\"3\"}"
   ]
  },
  {
   "cell_type": "markdown",
   "id": "e111d815",
   "metadata": {
    "id": "bea983a3"
   },
   "source": [
    "### Exercise 23:\n",
    "Write a Python program to iterate through a dictionary and print each key-value pair."
   ]
  },
  {
   "cell_type": "markdown",
   "id": "1fdfce11",
   "metadata": {
    "id": "bea983a3"
   },
   "source": [
    "### Exercise 24:\n",
    "Create a list of the first 5 letters of the alphabet using the `chr()` function."
   ]
  },
  {
   "cell_type": "markdown",
   "id": "000e0f46",
   "metadata": {
    "id": "bea983a3"
   },
   "source": [
    "### Exercise 25:\n",
    "Use the `zip()` function to combine two lists `[1, 2, 3]` and `[\"a\", \"b\", \"c\"]` into a list of tuples."
   ]
  },
  {
   "cell_type": "markdown",
   "id": "ef6ac635",
   "metadata": {
    "id": "bea983a3"
   },
   "source": [
    "### Exercise 26:\n",
    "Find the index of the value `50` in the list `[10, 20, 30, 40, 50]`."
   ]
  },
  {
   "cell_type": "markdown",
   "id": "8bb43a5a",
   "metadata": {
    "id": "bea983a3"
   },
   "source": [
    "### Exercise 27:\n",
    "Sort the list `names = [\"Alice\", \"Bob\", \"Charlie\", \"David\"]` in alphabetical order."
   ]
  },
  {
   "cell_type": "markdown",
   "id": "34136035",
   "metadata": {
    "id": "bea983a3"
   },
   "source": [
    "### Exercise 28:\n",
    "Write a Python function that takes a list of integers as input and returns the largest number."
   ]
  },
  {
   "cell_type": "markdown",
   "id": "58240804",
   "metadata": {
    "id": "bea983a3"
   },
   "source": [
    "### Exercise 29:\n",
    "Use the `count()` method to count how many times `\"apple\"` appears in the list `fruits = [\"apple\", \"banana\", \"apple\", \"orange\"]`."
   ]
  },
  {
   "cell_type": "markdown",
   "id": "1f127411",
   "metadata": {
    "id": "bea983a3"
   },
   "source": [
    "### Exercise 30:\n",
    "Create a dictionary `person` where keys are `\"name\"`, `\"age\"`, and `\"city\"`, and values are `\"Alice\"`, `25`, and `\"New York\"` respectively. Then access the value of the `\"city\"` key."
   ]
  },
  {
   "cell_type": "markdown",
   "id": "a3a69f0f",
   "metadata": {
    "id": "bea983a3"
   },
   "source": [
    "### Exercise 31:\n",
    "Write a Python function that takes a list as input and returns a new list with all duplicates removed."
   ]
  },
  {
   "cell_type": "markdown",
   "id": "e5dbf4b4",
   "metadata": {
    "id": "bea983a3"
   },
   "source": [
    "### Exercise 32:\n",
    "Write a Python function that takes two lists and returns their intersection."
   ]
  },
  {
   "cell_type": "markdown",
   "id": "2f9edfc0",
   "metadata": {
    "id": "bea983a3"
   },
   "source": [
    "### Exercise 33:\n",
    "Create a generator that yields the squares of numbers from 1 to 10."
   ]
  },
  {
   "cell_type": "code",
   "execution_count": null,
   "id": "aa963cd1",
   "metadata": {
    "id": "bea983a3"
   },
   "outputs": [],
   "source": []
  },
  {
   "cell_type": "markdown",
   "id": "463da9a3",
   "metadata": {
    "id": "bea983a3"
   },
   "source": [
    "### Exercise 34:\n",
    "Write a Python function that takes a dictionary as input and returns the sum of all its values."
   ]
  },
  {
   "cell_type": "markdown",
   "id": "d41cd41a",
   "metadata": {
    "id": "bea983a3"
   },
   "source": [
    "### Exercise 35:\n",
    "Use the `sorted()` function to sort the list `[3, 1, 4, 1, 5, 9]` in ascending order."
   ]
  },
  {
   "cell_type": "markdown",
   "id": "da01a4d4",
   "metadata": {
    "id": "bea983a3"
   },
   "source": [
    "### Exercise 36:\n",
    "Write a Python function that takes a list of strings as input and returns the longest string."
   ]
  },
  {
   "cell_type": "markdown",
   "id": "4c09a0c5",
   "metadata": {
    "id": "bea983a3"
   },
   "source": [
    "### Exercise 37:\n",
    "Check if all the elements in the list `[1, 2, 3, 4, 5]` are greater than 0 using the `all()` function."
   ]
  },
  {
   "cell_type": "markdown",
   "id": "0b17825f",
   "metadata": {
    "id": "bea983a3"
   },
   "source": [
    "### Exercise 38:\n",
    "Create a list of tuples where each tuple contains a number and its square for numbers from 1 to 5."
   ]
  },
  {
   "cell_type": "markdown",
   "id": "5a1c6216",
   "metadata": {
    "id": "bea983a3"
   },
   "source": [
    "### Exercise 39:\n",
    "Write a Python function that takes a list of tuples and returns a list of the second elements from each tuple."
   ]
  },
  {
   "cell_type": "markdown",
   "id": "45048818",
   "metadata": {
    "id": "bea983a3"
   },
   "source": [
    "### Exercise 40:\n",
    "Write a Python function that flattens a list of lists into a single list."
   ]
  },
  {
   "cell_type": "markdown",
   "id": "b8146a91",
   "metadata": {
    "id": "bea983a3"
   },
   "source": [
    "### Exercise 41:\n",
    "Use the `enumerate()` function to iterate through the list `[\"apple\", \"banana\", \"cherry\"]` and print the index and value."
   ]
  },
  {
   "cell_type": "markdown",
   "id": "ffb80579",
   "metadata": {
    "id": "bea983a3"
   },
   "source": [
    "### Exercise 42:\n",
    "Write a Python program that checks if a tuple is empty."
   ]
  },
  {
   "cell_type": "markdown",
   "id": "72e6222d",
   "metadata": {
    "id": "bea983a3"
   },
   "source": [
    "### Exercise 43:\n",
    "Create a list of even numbers between 1 and 20 using the `range()` function."
   ]
  },
  {
   "cell_type": "markdown",
   "id": "39993834",
   "metadata": {
    "id": "bea983a3"
   },
   "source": [
    "### Exercise 44:\n",
    "Write a Python function that takes a list of numbers as input and returns the list in reverse order."
   ]
  },
  {
   "cell_type": "markdown",
   "id": "7abcbe72",
   "metadata": {
    "id": "bea983a3"
   },
   "source": [
    "### Exercise 45:\n",
    "Create a dictionary comprehension that maps numbers from 1 to 5 to their cubes."
   ]
  },
  {
   "cell_type": "markdown",
   "id": "2f6d4280",
   "metadata": {
    "id": "bea983a3"
   },
   "source": [
    "### Exercise 46:\n",
    "Write a Python program that creates a new list containing only the unique elements of the list `[1, 2, 2, 3, 4, 4, 5]`."
   ]
  },
  {
   "cell_type": "markdown",
   "id": "452bcd68",
   "metadata": {
    "id": "bea983a3"
   },
   "source": [
    "### Exercise 47:\n",
    "Write a Python function that takes a list of dictionaries and returns a list of the values for a given key."
   ]
  },
  {
   "cell_type": "markdown",
   "id": "f2726036",
   "metadata": {
    "id": "bea983a3"
   },
   "source": [
    "### Exercise 48:\n",
    "Write a Python function that uses a generator to yield the Fibonacci sequence up to `n` terms."
   ]
  },
  {
   "cell_type": "markdown",
   "id": "e7970319",
   "metadata": {
    "id": "bea983a3"
   },
   "source": [
    "### Exercise 49:\n",
    "Write a Python function that takes a string and returns a list of all unique characters in the string."
   ]
  },
  {
   "cell_type": "markdown",
   "id": "390c620e",
   "metadata": {
    "id": "bea983a3"
   },
   "source": [
    "### Exercise 50:\n",
    "Write a Python function that merges two sorted lists into a single sorted list.\n",
    "\n",
    "\n",
    "### Exercise 51:\n",
    "Use the\n",
    "\n",
    " `filter()` function to filter out odd numbers from the list `[1, 2, 3, 4, 5, 6]`."
   ]
  },
  {
   "cell_type": "markdown",
   "id": "c72b6783",
   "metadata": {
    "id": "bea983a3"
   },
   "source": [
    "### Exercise 52:\n",
    "Write a Python program that converts a list of tuples `[(1, 2), (3, 4), (5, 6)]` into a dictionary."
   ]
  },
  {
   "cell_type": "markdown",
   "id": "7728f7ca",
   "metadata": {
    "id": "bea983a3"
   },
   "source": [
    "### Exercise 53:\n",
    "Write a Python function that takes two sets and returns their symmetric difference."
   ]
  },
  {
   "cell_type": "markdown",
   "id": "d2da9489",
   "metadata": {
    "id": "bea983a3"
   },
   "source": [
    "### Exercise 54:\n",
    "Write a Python program that finds the common elements in three lists `list1`, `list2`, and `list3`."
   ]
  },
  {
   "cell_type": "markdown",
   "id": "5d200579",
   "metadata": {
    "id": "bea983a3"
   },
   "source": [
    "### Exercise 55:\n",
    "Write a Python function that returns the factorial of a number using recursion."
   ]
  },
  {
   "cell_type": "markdown",
   "id": "bea983a3",
   "metadata": {
    "id": "bea983a3"
   },
   "source": [
    "### Exercise 56:\n",
    "Write a Python program that removes all empty strings from the list `[\"apple\", \"\", \"banana\", \"\", \"cherry\"]`.\n",
    "\n",
    "\n",
    "### Exercise 57:\n",
    "Write a Python function that takes a dictionary and returns a new dictionary with the keys and values swapped.\n",
    "\n",
    "\n",
    "\n",
    "### Exercise 58:\n",
    "Write a Python function that takes a list of integers and returns a new list with only the even numbers.\n",
    "\n",
    "\n",
    "\n",
    "### Exercise 59:\n",
    "Write a Python function that takes a list of tuples and returns a list of the first elements of each tuple.\n",
    "\n",
    "\n",
    "\n",
    "### Exercise 60:\n",
    "Write a Python program that removes duplicates from a list without changing the order of elements.\n",
    "\n",
    "\n",
    "\n",
    "### Exercise 61:\n",
    "Use the `map()` function to convert a list of strings to a list of their lengths.\n",
    "\n",
    "\n",
    "\n",
    "### Exercise 62:\n",
    "Write a Python program that calculates the average of a list of numbers.\n",
    "\n",
    "\n",
    "\n",
    "### Exercise 63:\n",
    "Write a Python function that generates a list of the first `n` Fibonacci numbers.\n",
    "\n",
    "\n",
    "\n",
    "### Exercise 64:\n",
    "Write a Python program that counts how many times each element appears in the list `[\"apple\", \"banana\", \"apple\", \"cherry\"]`.\n",
    "\n",
    "\n",
    "\n",
    "### Exercise 65:\n",
    "Write a Python program that removes all occurrences of a specific value from a list.\n",
    "\n",
    "\n",
    "\n",
    "### Exercise 66:\n",
    "Write a Python function that takes a list of strings and returns a list of the strings that start with a vowel.\n",
    "\n",
    "\n",
    "\n",
    "### Exercise 67:\n",
    "Write a Python program that finds the intersection of two sets `set1` and `set2`.\n",
    "\n",
    "\n",
    "\n",
    "### Exercise 68:\n",
    "Write a Python function that flattens a nested list.\n",
    "\n",
    "\n",
    "### Exercise 69:\n",
    "Write a Python program that checks if all the elements in a list are unique.\n",
    "\n",
    "\n",
    "### Exercise 70:\n",
    "Use the `reduce()` function from the `functools` module to multiply all elements in a list.\n",
    "\n",
    "\n",
    "\n",
    "### Exercise 71:\n",
    "Write a Python function that takes a list of strings and returns a dictionary where keys are strings and values are their lengths.\n",
    "\n",
    "\n",
    "\n",
    "### Exercise 72:\n",
    "Write a Python program that counts the number of vowels in a string.\n",
    "\n",
    "\n",
    "\n",
    "### Exercise 73:\n",
    "Create a list of tuples where each tuple contains a number from 1 to 5 and its factorial.\n",
    "\n",
    "\n",
    "\n",
    "### Exercise 74:\n",
    "Write a Python program that converts a list of dictionaries into a single dictionary by merging them.\n",
    "\n",
    "```python\n",
    "# Exercise 74\n",
    "```\n",
    "\n",
    "---\n",
    "\n",
    "### Exercise 75:\n",
    "Write a Python function that checks if a set is a subset of another set.\n",
    "\n",
    "```python\n",
    "# Exercise 75\n",
    "```\n",
    "\n",
    "---\n",
    "\n",
    "### Exercise 76:\n",
    "Write a Python program that sorts a list of tuples based on the second element in each tuple.\n",
    "\n",
    "```python\n",
    "# Exercise 76\n",
    "```\n",
    "\n",
    "---\n",
    "\n",
    "### Exercise 77:\n",
    "Write a Python function that takes a list of integers and returns a new list with only the positive integers.\n",
    "\n",
    "```python\n",
    "# Exercise 77\n",
    "```\n",
    "\n",
    "---\n",
    "\n",
    "### Exercise 78:\n",
    "Write a Python function that takes two sets and returns their union.\n",
    "\n",
    "```python\n",
    "# Exercise 78\n",
    "```\n",
    "\n",
    "---\n",
    "\n",
    "### Exercise 79:\n",
    "Write a Python function that takes a list of numbers and returns the product of all the numbers.\n",
    "\n",
    "```python\n",
    "# Exercise 79\n",
    "```\n",
    "\n",
    "---\n",
    "\n",
    "### Exercise 80:\n",
    "Write a Python program that converts a list of characters into a string.\n",
    "\n",
    "```python\n",
    "# Exercise 80\n",
    "```\n",
    "\n",
    "---\n",
    "\n",
    "### Exercise 81:\n",
    "Write a Python program that finds the second largest number in a list of integers.\n",
    "\n",
    "```python\n",
    "# Exercise 81\n",
    "```\n",
    "\n",
    "---\n",
    "\n",
    "### Exercise 82:\n",
    "Write a Python function that takes a dictionary and returns a list of its keys in sorted order.\n",
    "\n",
    "```python\n",
    "# Exercise 82\n",
    "```\n",
    "\n",
    "---\n",
    "\n",
    "### Exercise 83:\n",
    "Write a Python program that finds the most common element in a list.\n",
    "\n",
    "```python\n",
    "# Exercise 83\n",
    "```\n",
    "\n",
    "---\n",
    "\n",
    "### Exercise 84:\n",
    "Write a Python function that takes a list of tuples and returns a list of the tuples sorted by the first element.\n",
    "\n",
    "```python\n",
    "# Exercise 84\n",
    "```\n",
    "\n",
    "---\n",
    "\n",
    "### Exercise 85:\n",
    "Write a Python program that removes duplicates from a list of dictionaries.\n",
    "\n",
    "```python\n",
    "# Exercise 85\n",
    "```\n",
    "\n",
    "---\n",
    "\n",
    "### Exercise 86:\n",
    "Write a Python function that takes a list of numbers and returns the minimum and maximum numbers in the list.\n",
    "\n",
    "```python\n",
    "# Exercise 86\n",
    "```\n",
    "\n",
    "---\n",
    "\n",
    "### Exercise 87:\n",
    "Write a Python program that creates a list of tuples from two lists.\n",
    "\n",
    "```python\n",
    "# Exercise 87\n",
    "```\n",
    "\n",
    "---\n",
    "\n",
    "### Exercise 88:\n",
    "Write a Python function that takes a list of strings and returns a list of the strings in reverse order.\n",
    "\n",
    "```python\n",
    "# Exercise 88\n",
    "```\n",
    "\n",
    "---\n",
    "\n",
    "### Exercise 89:\n",
    "Write a Python function that takes a list of integers and returns the sum of all odd numbers.\n",
    "\n",
    "```python\n",
    "# Exercise 89\n",
    "```\n",
    "\n",
    "---\n",
    "\n",
    "### Exercise 90:\n",
    "Write a Python program that checks if a string is a palindrome.\n",
    "\n",
    "```python\n",
    "# Exercise 90\n",
    "```\n",
    "\n",
    "---\n",
    "\n",
    "### Exercise 91:\n",
    "Write a Python program that finds the median of a list of numbers.\n",
    "\n",
    "```python\n",
    "# Exercise 91\n",
    "```\n",
    "\n",
    "---\n",
    "\n",
    "### Exercise 92:\n",
    "Write a Python function that takes a list of dictionaries and returns a dictionary with the total value for each key.\n",
    "\n",
    "```python\n",
    "# Exercise 92\n",
    "```\n",
    "\n",
    "---\n",
    "\n",
    "### Exercise 93:\n",
    "Write a Python program that calculates the mode of a list of numbers.\n",
    "\n",
    "```python\n",
    "# Exercise 93\n",
    "```\n",
    "\n",
    "---\n",
    "\n",
    "### Exercise 94:\n",
    "Write a Python function that takes a list of numbers and returns the sum of the squares of all the numbers.\n",
    "\n",
    "```python\n",
    "# Exercise 94\n",
    "```\n",
    "\n",
    "---\n",
    "\n",
    "### Exercise 95:\n",
    "Write a Python program that creates a list of tuples, where each tuple contains a number and its cube for numbers from 1 to 5.\n",
    "\n",
    "```python\n",
    "# Exercise 95\n",
    "```\n",
    "\n",
    "---\n",
    "\n",
    "### Exercise 96:\n",
    "Write a Python function that returns a list of all prime numbers up to `n`.\n",
    "\n",
    "```python\n",
    "# Exercise 96\n",
    "```\n",
    "\n",
    "---\n",
    "\n",
    "### Exercise 97:\n",
    "Write a Python program that finds the common keys between two dictionaries.\n",
    "\n",
    "```python\n",
    "# Exercise 97\n",
    "```\n",
    "\n",
    "---\n",
    "\n",
    "### Exercise 98:\n",
    "Write a Python function that takes a list of strings and returns a list of the strings that contain more than 5 characters.\n",
    "\n",
    "```python\n",
    "# Exercise 98\n",
    "```\n",
    "\n",
    "---\n",
    "\n",
    "### Exercise 99:\n",
    "Write a Python program that converts a list of strings into a list of tuples, where each tuple contains the string and its length.\n",
    "\n",
    "```python\n",
    "# Exercise 99\n",
    "```\n",
    "\n",
    "---\n",
    "\n",
    "### Exercise 100:\n",
    "Write a Python function that takes a list of dictionaries and returns a new dictionary by summing the values of each key across all dictionaries.\n",
    "\n",
    "```python\n",
    "# Exercise 100\n",
    "```\n",
    "\n",
    "---"
   ]
  },
  {
   "cell_type": "code",
   "execution_count": null,
   "id": "90cecfc1",
   "metadata": {},
   "outputs": [],
   "source": []
  }
 ],
 "metadata": {
  "colab": {
   "provenance": []
  },
  "kernelspec": {
   "display_name": "Python 3",
   "language": "python",
   "name": "python3"
  },
  "language_info": {
   "codemirror_mode": {
    "name": "ipython",
    "version": 3
   },
   "file_extension": ".py",
   "mimetype": "text/x-python",
   "name": "python",
   "nbconvert_exporter": "python",
   "pygments_lexer": "ipython3",
   "version": "3.8.8"
  }
 },
 "nbformat": 4,
 "nbformat_minor": 5
}
